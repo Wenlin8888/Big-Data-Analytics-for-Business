{
 "cells": [
  {
   "cell_type": "markdown",
   "metadata": {},
   "source": [
    "# Data Sources\n",
    "This notebook formally introduces the variety of other data sources that you can use with Spark out of the box as well as the countless other sources built by the greater community. Spark has six “core” data sources and hundreds of external data sources written by the community. The ability to read and write from all different kinds of data sources and for the community to create its own contributions is arguably one of Spark’s greatest strengths. Following are Spark’s core data sources:\n",
    "\n",
    "* CSV\n",
    "* JSON\n",
    "* Parquet\n",
    "* ORC\n",
    "* JDBC/ODBC connections\n",
    "* Plain-text files\n",
    "\n",
    "As mentioned, Spark has numerous community-created data sources. Here’s just a small sample:\n",
    "\n",
    "* BigQuery\n",
    "* Cassandra\n",
    "* HBase\n",
    "* MongoDB\n",
    "* AWS Redshift\n",
    "* XML\n",
    "* And many, many others\n",
    "\n",
    "The goal of this notebook is to give you the ability to read and write from Spark’s core data sources and know enough to understand what you should look for when integrating with third-party data sources. To achieve this, we will focus on the core concepts that you need to be able to recognize and understand.\n",
    "\n",
    "## The Structure of the Data Sources API\n",
    "Before proceeding with how to read and write from certain formats, let’s visit the overall organizational structure of the data source APIs.\n",
    "\n",
    "### Read API Structure\n",
    "The core structure for reading data is as follows:\n",
    "\n",
    "> ```\n",
    "DataFrameReader.format(...).option(\"key\", \"value\").schema(...).load()\n",
    "```\n",
    "\n",
    "We will use this format to read from all of our data sources. format is optional because by default Spark will use the Parquet format. option allows you to set key-value configurations to parameterize how you will read data. Lastly, schema is optional if the data source provides a schema or if you intend to use schema inference. Naturally, there are some required options for each format, which we will discuss when we look at each format.\n",
    "\n",
    "### Basics of Reading Data\n",
    "The foundation for reading data in Spark is the DataFrameReader. We access this through the SparkSession via the read attribute:\n",
    "\n",
    "> ```python\n",
    "spark.read\n",
    "```\n",
    "\n",
    "After we have a DataFrame reader, we specify several values:\n",
    "\n",
    "* The format\n",
    "* The schema\n",
    "* The read mode\n",
    "* A series of options\n",
    "\n",
    "The format, options, and schema each return a DataFrameReader that can undergo further transformations and are all optional, except for one option. Each data source has a specific set of options that determine how the data is read into Spark (we cover these options shortly). At a minimum, you must supply the DataFrameReader a path to from which to read.\n",
    "\n",
    "Here’s an example of the overall layout:\n",
    "\n",
    "``` python\n",
    "spark.read.format(\"csv\")\\\n",
    "  .option(\"mode\", \"FAILFAST\")\\\n",
    "  .option(\"inferSchema\", \"true\")\\\n",
    "  .option(\"path\", \"path/to/file(s)\")\\\n",
    "  .load()\n",
    "```\n",
    "  \n",
    "As we have seen before we can put the \"path\" option directly in the `load()` method, i.e.: `.load(\"path/to/file(s)\")`\n",
    "\n",
    "**READ MODES**\n",
    "Reading data from an external source naturally entails encountering malformed data, especially when working with only semi-structured data sources. Read modes specify what will happen when Spark does come across malformed records. Table below lists the read modes:\n",
    "\n",
    "\n",
    "|Read mode | Description |\n",
    "| -- | -- |\n",
    "| permissive | Sets all fields to null when it encounters a corrupted record and places all corrupted records in a string column called \\_corrupt_record |\n",
    "| dropMalformed | Drops the row that contains malformed records |\n",
    "| failFast | Fails immediately upon encountering malformed records |\n",
    "\n",
    "The default is *permissive*.\n",
    "\n",
    "**Example:** Let's load a sample CSV file, similar to what we have seen before:"
   ]
  },
  {
   "cell_type": "code",
   "execution_count": 1,
   "metadata": {},
   "outputs": [
    {
     "name": "stdout",
     "output_type": "stream",
     "text": [
      "gs://bu-qst843/Big-Data-Analytics-for-Business/data/\n"
     ]
    }
   ],
   "source": [
    "# the following line gets the bucket name attached to our cluster\n",
    "bucket = spark._jsc.hadoopConfiguration().get(\"fs.gs.system.bucket\")\n",
    "\n",
    "# specifying the path to our bucket where the data is located (no need to edit this path anymore)\n",
    "data = \"gs://\" + bucket + \"/Big-Data-Analytics-for-Business/data/\"\n",
    "print(data)"
   ]
  },
  {
   "cell_type": "code",
   "execution_count": 1,
   "metadata": {},
   "outputs": [
    {
     "name": "stderr",
     "output_type": "stream",
     "text": [
      "                                                                                \r"
     ]
    }
   ],
   "source": [
    "df = spark.read.format(\"csv\")\\\n",
    "  .option(\"header\", \"true\")\\\n",
    "  .option(\"inferSchema\", \"true\")\\\n",
    "  .load(data + \"flight-data/csv/2010-summary.csv\")"
   ]
  },
  {
   "cell_type": "code",
   "execution_count": 2,
   "metadata": {},
   "outputs": [
    {
     "name": "stdout",
     "output_type": "stream",
     "text": [
      "+-----------------+-------------------+-----+\n",
      "|DEST_COUNTRY_NAME|ORIGIN_COUNTRY_NAME|count|\n",
      "+-----------------+-------------------+-----+\n",
      "|    United States|            Romania|    1|\n",
      "|    United States|            Ireland|  264|\n",
      "+-----------------+-------------------+-----+\n",
      "only showing top 2 rows\n",
      "\n"
     ]
    }
   ],
   "source": [
    "df.show(2)"
   ]
  },
  {
   "cell_type": "markdown",
   "metadata": {},
   "source": [
    "### Write API Structure\n",
    "The core structure for writing data is as follows:\n",
    "\n",
    "> ```\n",
    "DataFrameWriter.format(...).option(...).partitionBy(...).bucketBy(...)\\\n",
    "  .sortBy(...).save()```\n",
    "\n",
    "We will use this format to write to all of our data sources. format is optional because by default, Spark will use the parquet format. option, again, allows us to configure how to write out our given data. *PartitionBy*, *bucketBy*, and *sortBy* work only for file-based data sources; you can use them to control the specific layout of files at the destination.\n",
    "\n",
    "### Basics of Writing Data\n",
    "The foundation for writing data is quite similar to that of reading data. Instead of the *DataFrameReader*, we have the *DataFrameWriter*. Because we always need to write out some given data source, we access the *DataFrameWriter* on a per-DataFrame basis via the write attribute:"
   ]
  },
  {
   "cell_type": "markdown",
   "metadata": {},
   "source": [
    "We can use the `write` attribute to write it to file:"
   ]
  },
  {
   "cell_type": "code",
   "execution_count": 3,
   "metadata": {},
   "outputs": [
    {
     "data": {
      "text/plain": [
       "<pyspark.sql.readwriter.DataFrameWriter at 0x7f8896a8c1f0>"
      ]
     },
     "execution_count": 3,
     "metadata": {},
     "output_type": "execute_result"
    }
   ],
   "source": [
    "df.write"
   ]
  },
  {
   "cell_type": "markdown",
   "metadata": {},
   "source": [
    "After we have a DataFrameWriter, we specify three values: the format, a series of options, and the save mode. At a minimum, you must supply a path. We will cover the potential for options, which vary from data source to data source, shortly."
   ]
  },
  {
   "cell_type": "code",
   "execution_count": 4,
   "metadata": {},
   "outputs": [
    {
     "name": "stderr",
     "output_type": "stream",
     "text": [
      "                                                                                \r"
     ]
    }
   ],
   "source": [
    "df.write.format(\"csv\")\\\n",
    "  .option(\"header\", \"True\")\\\n",
    "  .mode(\"overwrite\")\\\n",
    "  .save(\"path/to/file(s)\")"
   ]
  },
  {
   "cell_type": "markdown",
   "metadata": {},
   "source": [
    "### SAVE MODES\n",
    "Save modes specify what will happen if Spark finds data at the specified location (assuming all else equal). The following table lists the save modes:\n",
    "\n",
    "| Save mode | Description |\n",
    "| -- | -- |\n",
    "| append | Appends the output files to the list of files that already exist at that location |\n",
    "| overwrite | Will completely overwrite any data that already exists there |\n",
    "| errorIfExists | Throws an error and fails the write if data or files already exist at the specified location |\n",
    "| ignore | If data or files exist at the location, do nothing with the current DataFrame |\n",
    "\n",
    "The default is `errorIfExists`. This means that if Spark finds data at the location to which you’re writing, it will fail the write immediately.\n",
    "\n",
    "We’ve largely covered the core concepts that you’re going to need when using data sources, so now let’s dive into each of Spark’s native data sources.\n",
    "\n",
    "### CSV Files\n",
    "CSV stands for commma-separated values. This is a common text file format in which each line represents a single record, and commas separate each field within a record. CSV files, while seeming well structured, are actually one of the trickiest file formats you will encounter because not many assumptions can be made in production scenarios about what they contain or how they are structured. For this reason, the CSV reader has a large number of options. These options give you the ability to work around issues like certain characters needing to be escaped—for example, commas inside of columns when the file is also comma-delimited or null values labeled in an unconventional way.\n",
    "\n",
    "### CSV Options\n",
    "Following table presents the options available in the CSV reader:\n",
    "\n",
    "\n",
    "|Read/write|Key|Potential values|Default |Description|\n",
    "|--|--|--|--|--|\n",
    "|Both|sep|Any single string character|,|The single character that is used as separator for each field and value.|\n",
    "|Both|header|true, false|false|A Boolean flag that declares whether the first line in the file(s) are the names of the columns.|\n",
    "|Read|escape|Any string character|\"\\\\\"|The character Spark should use to escape other characters in the file.|\n",
    "|Read|inferSchema|true, false|false|Specifies whether Spark should infer column types when reading the file.|\n",
    "|Read|ignoreLeadingWhiteSpace|true, false|false|Declares whether leading spaces from values being read should be skipped.|\n",
    "|Read|ignoreTrailingWhiteSpace|true, false|false|Declares whether trailing spaces from values being read should be skipped.|\n",
    "|Both|nullValue|Any string character|“”|Declares what character represents a null value in the file.|\n",
    "|Both|nanValue|Any string character|NaN|Declares what character represents a NaN or missing character in the CSV file.|\n",
    "|Both|positiveInf|Any string or character|Inf|Declares what character(s) represent a positive infinite value.|\n",
    "|Both|negativeInf|Any string or character|-Inf|Declares what character(s) represent a negative infinite value.|\n",
    "|Both|compression or codec|None, uncompressed, bzip2, deflate, gzip, lz4, or snappy|none|Declares what compression codec Spark should use to read or write the file.|\n",
    "|Both|dateFormat|Any string or character that conforms to java’s SimpleDataFormat.|yyyy-MM-dd|Declares the date format for any columns that are date type.|\n",
    "|Both|timestampFormat|Any string or character that conforms to java’s SimpleDataFormat.|yyyy-MM-dd’T’HH:mm:ss.SSSZZ|Declares the timestamp format for any columns that are timestamp type.|\n",
    "|Read|maxColumns|Any integer|20480|Declares the maximum number of columns in the file.|\n",
    "|Read|maxCharsPerColumn|Any integer|1000000|Declares the maximum number of characters in a column.|\n",
    "|Read|escapeQuotes|true, false|true|Declares whether Spark should escape quotes that are found in lines.|\n",
    "|Read|maxMalformedLogPerPartition|Any integer|10|Sets the maximum number of malformed rows Spark will log for each partition. Malformed records beyond this number will be ignored.|\n",
    "|Write|quoteAll|true, false|false|Specifies whether all values should be enclosed in quotes, as opposed to just escaping values that have a quote character.|\n",
    "|Read|multiLine|true, false|false|This option allows you to read multiline CSV files where each logical row in the CSV file might span multiple rows in the file itself.|\n",
    "\n",
    "### Reading CSV Files\n",
    "To read a CSV file, like any other format, we must first create a `DataFrameReader` for that specific format. Here, we specify the format to be CSV:"
   ]
  },
  {
   "cell_type": "code",
   "execution_count": 5,
   "metadata": {},
   "outputs": [
    {
     "data": {
      "text/plain": [
       "<pyspark.sql.readwriter.DataFrameReader at 0x7f8896a8df90>"
      ]
     },
     "execution_count": 5,
     "metadata": {},
     "output_type": "execute_result"
    }
   ],
   "source": [
    "spark.read.format(\"csv\")"
   ]
  },
  {
   "cell_type": "markdown",
   "metadata": {},
   "source": [
    "After this, we have the option of specifying a schema as well as modes as options. Let’s set a couple of options, some that we have seen above and others that we haven’t seen yet. We’ll set the `header` to `true` for our CSV file, the `mode` to be `FAILFAST`, and `inferSchema` to `true`:"
   ]
  },
  {
   "cell_type": "code",
   "execution_count": 6,
   "metadata": {},
   "outputs": [
    {
     "data": {
      "text/plain": [
       "DataFrame[DEST_COUNTRY_NAME: string, ORIGIN_COUNTRY_NAME: string, count: int]"
      ]
     },
     "execution_count": 6,
     "metadata": {},
     "output_type": "execute_result"
    }
   ],
   "source": [
    "spark.read.format(\"csv\")\\\n",
    "  .option(\"header\", \"true\")\\\n",
    "  .option(\"mode\", \"FAILFAST\")\\\n",
    "  .option(\"inferSchema\", \"true\")\\\n",
    "  .load(data + \"flight-data/csv/2010-summary.csv\")\n",
    "# FAILFAST: Fails immediately upon encountering malformed records"
   ]
  },
  {
   "cell_type": "markdown",
   "metadata": {},
   "source": [
    "As mentioned, we can use the mode to specify how much tolerance we have for malformed data. For example, we can use these modes and a manual schema to ensure that our file(s) conform to the data that we expected:"
   ]
  },
  {
   "cell_type": "code",
   "execution_count": 7,
   "metadata": {},
   "outputs": [
    {
     "name": "stdout",
     "output_type": "stream",
     "text": [
      "+-----------------+-------------------+-----+\n",
      "|DEST_COUNTRY_NAME|ORIGIN_COUNTRY_NAME|count|\n",
      "+-----------------+-------------------+-----+\n",
      "|    United States|            Romania|    1|\n",
      "|    United States|            Ireland|  264|\n",
      "|    United States|              India|   69|\n",
      "|            Egypt|      United States|   24|\n",
      "|Equatorial Guinea|      United States|    1|\n",
      "+-----------------+-------------------+-----+\n",
      "only showing top 5 rows\n",
      "\n"
     ]
    }
   ],
   "source": [
    "from pyspark.sql.types import StructField, StructType, StringType, LongType\n",
    "\n",
    "myManualSchema = StructType([\n",
    "  StructField(\"DEST_COUNTRY_NAME\", StringType(), True),\n",
    "  StructField(\"ORIGIN_COUNTRY_NAME\", StringType(), True),\n",
    "  StructField(\"count\", LongType(), True)\n",
    "])\n",
    "\n",
    "spark.read.format(\"csv\")\\\n",
    "  .option(\"header\", \"true\")\\\n",
    "  .option(\"mode\", \"FAILFAST\")\\\n",
    "  .schema(myManualSchema)\\\n",
    "  .load(data + \"flight-data/csv/2010-summary.csv\")\\\n",
    "  .show(5)"
   ]
  },
  {
   "cell_type": "markdown",
   "metadata": {},
   "source": [
    "### Writing CSV Files\n",
    "\n",
    "Just as with reading data, there are a variety of options (listed in the table above) for writing data when we write CSV files. This is a subset of the reading options because many do not apply when writing data (like maxColumns and inferSchema). Here’s an example:"
   ]
  },
  {
   "cell_type": "markdown",
   "metadata": {},
   "source": [
    "Let's first use a filter to create a small DataFrame from our loaded df:"
   ]
  },
  {
   "cell_type": "code",
   "execution_count": 8,
   "metadata": {},
   "outputs": [
    {
     "name": "stdout",
     "output_type": "stream",
     "text": [
      "+-----------------+-------------------+-----+\n",
      "|DEST_COUNTRY_NAME|ORIGIN_COUNTRY_NAME|count|\n",
      "+-----------------+-------------------+-----+\n",
      "|    United States|            Romania|    1|\n",
      "|    United States|            Ireland|  264|\n",
      "|    United States|              India|   69|\n",
      "|            Egypt|      United States|   24|\n",
      "|Equatorial Guinea|      United States|    1|\n",
      "+-----------------+-------------------+-----+\n",
      "only showing top 5 rows\n",
      "\n"
     ]
    }
   ],
   "source": [
    "df.show(5)"
   ]
  },
  {
   "cell_type": "code",
   "execution_count": 9,
   "metadata": {},
   "outputs": [
    {
     "name": "stdout",
     "output_type": "stream",
     "text": [
      "+-----------------+-----+\n",
      "|DEST_COUNTRY_NAME|count|\n",
      "+-----------------+-----+\n",
      "|           Canada| 8271|\n",
      "|           Mexico| 6200|\n",
      "|   United Kingdom| 1629|\n",
      "|          Germany| 1392|\n",
      "|            Japan| 1383|\n",
      "+-----------------+-----+\n",
      "only showing top 5 rows\n",
      "\n"
     ]
    }
   ],
   "source": [
    "from pyspark.sql.functions import desc, col\n",
    "outbound_US_2010 = df.where(\"ORIGIN_COUNTRY_NAME == 'United States'\")\\\n",
    "  .where(\"DEST_COUNTRY_NAME <> 'United States'\")\\\n",
    "  .select(\"DEST_COUNTRY_NAME\", \"count\")\\\n",
    "  .orderBy(col(\"count\").desc())\n",
    "\n",
    "outbound_US_2010.show(5)"
   ]
  },
  {
   "cell_type": "markdown",
   "metadata": {},
   "source": [
    "We will write this DataFrame to a TSV file in our Google Cloud bucket. Before writing let's check out the current physical plan for our DataFrame `outbound_US_2010`:"
   ]
  },
  {
   "cell_type": "code",
   "execution_count": 10,
   "metadata": {},
   "outputs": [
    {
     "name": "stdout",
     "output_type": "stream",
     "text": [
      "== Physical Plan ==\n",
      "AdaptiveSparkPlan isFinalPlan=false\n",
      "+- Sort [count#19 DESC NULLS LAST], true, 0\n",
      "   +- Exchange rangepartitioning(count#19 DESC NULLS LAST, 200), ENSURE_REQUIREMENTS, [plan_id=109]\n",
      "      +- Project [DEST_COUNTRY_NAME#17, count#19]\n",
      "         +- Filter (((isnotnull(ORIGIN_COUNTRY_NAME#18) AND isnotnull(DEST_COUNTRY_NAME#17)) AND (ORIGIN_COUNTRY_NAME#18 = United States)) AND NOT (DEST_COUNTRY_NAME#17 = United States))\n",
      "            +- FileScan csv [DEST_COUNTRY_NAME#17,ORIGIN_COUNTRY_NAME#18,count#19] Batched: false, DataFilters: [isnotnull(ORIGIN_COUNTRY_NAME#18), isnotnull(DEST_COUNTRY_NAME#17), (ORIGIN_COUNTRY_NAME#18 = Un..., Format: CSV, Location: InMemoryFileIndex(1 paths)[gs://qst843/notebooks/jupyter/data/flight-data/csv/2010-summary.csv], PartitionFilters: [], PushedFilters: [IsNotNull(ORIGIN_COUNTRY_NAME), IsNotNull(DEST_COUNTRY_NAME), EqualTo(ORIGIN_COUNTRY_NAME,United..., ReadSchema: struct<DEST_COUNTRY_NAME:string,ORIGIN_COUNTRY_NAME:string,count:int>\n",
      "\n",
      "\n"
     ]
    }
   ],
   "source": [
    "outbound_US_2010.explain()"
   ]
  },
  {
   "cell_type": "markdown",
   "metadata": {},
   "source": [
    "Since the default number of partitions for shuffling is 200 if we write the current DataFrame into a file it will result in 200 small files (this happened after the orderBy operation). In fact since this is a small DataFrame it will be 124 files since we have 124 rows in the DataFrame. This is less than ideal as it will add significant time to read/write. We can fix this by resetting `shuffle.partitions` value:"
   ]
  },
  {
   "cell_type": "code",
   "execution_count": 11,
   "metadata": {},
   "outputs": [],
   "source": [
    "spark.conf.set('spark.sql.shuffle.partitions', '1')"
   ]
  },
  {
   "cell_type": "markdown",
   "metadata": {},
   "source": [
    "If we try now we will end up with only 1 file:"
   ]
  },
  {
   "cell_type": "code",
   "execution_count": 12,
   "metadata": {},
   "outputs": [
    {
     "name": "stderr",
     "output_type": "stream",
     "text": [
      "                                                                                \r"
     ]
    },
    {
     "name": "stdout",
     "output_type": "stream",
     "text": [
      "outbound_US_2010 DataFrame was written to a CSV file in the following path: gs://qst843/notebooks/jupyter/data/flight-data/csv/outbound_US_2010.tsv\n"
     ]
    }
   ],
   "source": [
    "outbound_US_2010.write.format(\"csv\")\\\n",
    "  .option(\"header\", \"True\")\\\n",
    "  .option(\"sep\", \"\\t\")\\\n",
    "  .mode(\"overwrite\")\\\n",
    "  .save(data + \"tmp/outbound_US_2010.tsv\")\n",
    "\n",
    "print(\"outbound_US_2010 DataFrame was written to a CSV file in the following path: {}flight-data/csv/outbound_US_2010.tsv\".format(data))"
   ]
  },
  {
   "cell_type": "code",
   "execution_count": 13,
   "metadata": {},
   "outputs": [
    {
     "data": {
      "text/plain": [
       "'gs://qst843/notebooks/jupyter/data/tmp/outbound_US_2010.tsv'"
      ]
     },
     "execution_count": 13,
     "metadata": {},
     "output_type": "execute_result"
    }
   ],
   "source": [
    "data + \"tmp/outbound_US_2010.tsv\""
   ]
  },
  {
   "cell_type": "markdown",
   "metadata": {},
   "source": [
    "### Writing to Hadoop File System\n",
    "We can also write this file in our cluster's Hadoop File System:"
   ]
  },
  {
   "cell_type": "code",
   "execution_count": 14,
   "metadata": {},
   "outputs": [
    {
     "name": "stderr",
     "output_type": "stream",
     "text": [
      "                                                                                \r"
     ]
    }
   ],
   "source": [
    "outbound_US_2010.write.format(\"csv\")\\\n",
    "  .option(\"header\", \"True\")\\\n",
    "  .option(\"sep\", \"\\t\")\\\n",
    "  .mode(\"overwrite\")\\\n",
    "  .save(\"/tmp/outbound_US_2010.tsv\")"
   ]
  },
  {
   "cell_type": "code",
   "execution_count": 15,
   "metadata": {},
   "outputs": [
    {
     "name": "stdout",
     "output_type": "stream",
     "text": [
      "Found 2 items\n",
      "-rw-r--r--   1 root hadoop          0 2024-03-25 03:50 /tmp/outbound_US_2010.tsv/_SUCCESS\n",
      "-rw-r--r--   1 root hadoop       1727 2024-03-25 03:50 /tmp/outbound_US_2010.tsv/part-00000-08296ff4-de61-44ec-9c4c-58ec4401d43f-c000.csv\n"
     ]
    }
   ],
   "source": [
    "!hadoop fs -ls /tmp/outbound_US_2010.tsv"
   ]
  },
  {
   "cell_type": "markdown",
   "metadata": {},
   "source": [
    "The number of files or data written is dependent on the number of partitions the DataFrame has at the time you write out the data. By default, one file is written per partition of the data. This means that although we specify a “file”, it’s actually a number of files within a folder, with the name of the specified file, with one file per each partition that is written.\n",
    "\n",
    "outbound_US_2010.tsv is actually a folder that contains our CSV file(s). This actually reflects the number of partitions in our DataFrame at the time we write it out. If we were to repartition our data before then, we would end up with a different number of files. Let's look at the first few rows of this file and confirm that the format is as what we expected.\n",
    "\n",
    "Use the following command to check the first few rows. Replace FILENAME with the name of the file from the result of the list above:\n",
    "\n",
    "```bash\n",
    "!hadoop fs -cat FILENAME | head\n",
    "```"
   ]
  },
  {
   "cell_type": "code",
   "execution_count": 16,
   "metadata": {},
   "outputs": [
    {
     "name": "stdout",
     "output_type": "stream",
     "text": [
      "DEST_COUNTRY_NAME\tcount\n",
      "Canada\t8271\n",
      "Mexico\t6200\n",
      "United Kingdom\t1629\n",
      "Germany\t1392\n",
      "Japan\t1383\n",
      "Dominican Republic\t1109\n",
      "Brazil\t995\n",
      "The Bahamas\t903\n",
      "Colombia\t785\n"
     ]
    }
   ],
   "source": [
    "# Your code goes here\n",
    "!hadoop fs -cat /tmp/outbound_US_2010.tsv/* | head"
   ]
  },
  {
   "cell_type": "markdown",
   "metadata": {},
   "source": [
    "## JSON Files\n",
    "Refer to chapter 9 for the specifics of read/write of this type of files.\n",
    "\n",
    "## Parquet Files\n",
    "Parquet is an open source column-oriented data store that provides a variety of storage optimizations, especially for analytics workloads. It provides columnar compression, which saves storage space and allows for reading individual columns instead of entire files. It is a file format that works exceptionally well with Apache Spark and is in fact the default file format. We recommend writing data out to Parquet for long-term storage because reading from a Parquet file will always be more efficient than JSON or CSV. Another advantage of Parquet is that it supports complex types. This means that if your column is an array (which would fail with a CSV file, for example), map, or struct, you’ll still be able to read and write that file without issue. Here’s how to specify Parquet as the read format:"
   ]
  },
  {
   "cell_type": "code",
   "execution_count": 17,
   "metadata": {},
   "outputs": [
    {
     "data": {
      "text/plain": [
       "<pyspark.sql.readwriter.DataFrameReader at 0x7f8896afdf90>"
      ]
     },
     "execution_count": 17,
     "metadata": {},
     "output_type": "execute_result"
    }
   ],
   "source": [
    "spark.read.format(\"parquet\")"
   ]
  },
  {
   "cell_type": "markdown",
   "metadata": {},
   "source": [
    "### Reading Parquet Files\n",
    "Parquet has very few options because it enforces its own schema when storing data. Thus, all you need to set is the format and you are good to go. We can set the schema if we have strict requirements for what our DataFrame should look like. Oftentimes this is not necessary because we can use schema on read, which is similar to the inferSchema with CSV files. However, with Parquet files, this method is more powerful because the schema is built into the file itself (so no inference needed).\n",
    "\n",
    "Here are some simple examples reading from parquet:"
   ]
  },
  {
   "cell_type": "code",
   "execution_count": 18,
   "metadata": {},
   "outputs": [
    {
     "name": "stderr",
     "output_type": "stream",
     "text": [
      "[Stage 16:>                                                         (0 + 1) / 1]\r"
     ]
    },
    {
     "name": "stdout",
     "output_type": "stream",
     "text": [
      "+-----------------+-------------------+-----+\n",
      "|DEST_COUNTRY_NAME|ORIGIN_COUNTRY_NAME|count|\n",
      "+-----------------+-------------------+-----+\n",
      "|    United States|            Romania|    1|\n",
      "|    United States|            Ireland|  264|\n",
      "|    United States|              India|   69|\n",
      "|            Egypt|      United States|   24|\n",
      "|Equatorial Guinea|      United States|    1|\n",
      "+-----------------+-------------------+-----+\n",
      "only showing top 5 rows\n",
      "\n"
     ]
    },
    {
     "name": "stderr",
     "output_type": "stream",
     "text": [
      "                                                                                \r"
     ]
    }
   ],
   "source": [
    "spark.read.format(\"parquet\").load(data + \"flight-data/parquet/2010-summary.parquet\").show(5)"
   ]
  },
  {
   "cell_type": "markdown",
   "metadata": {},
   "source": [
    "### PARQUET OPTIONS\n",
    "As we just mentioned, there are very few Parquet options—precisely two, in fact—because it has a well-defined specification that aligns closely with the concepts in Spark. Table below presents the options:\n",
    "\n",
    "|Read/Write|Key|Potential Values|Default|Description|\n",
    "|--|--|--|--|--|\n",
    "|Write|compression or codec|None, uncompressed, bzip2, deflate, gzip, lz4, or snappy|None|Declares what compression codec Spark should use to read or write the file.|\n",
    "|Read|mergeSchema|true, false|Value of the configuration spark.sql.parquet.mergeSchema|You can incrementally add columns to newly written Parquet files in the same table/folder. Use this option to enable or disable this feature.|\n",
    "\n",
    "Writing Parquet Files\n",
    "Writing Parquet is as easy as reading it. We simply specify the location for the file. The same partitioning rules apply:"
   ]
  },
  {
   "cell_type": "code",
   "execution_count": 19,
   "metadata": {},
   "outputs": [
    {
     "name": "stderr",
     "output_type": "stream",
     "text": [
      "                                                                                \r"
     ]
    }
   ],
   "source": [
    "outbound_US_2010.write.format(\"parquet\").mode(\"overwrite\")\\\n",
    "  .save(data + \"tmp/outbound_US_2010.parquet\") "
   ]
  },
  {
   "cell_type": "markdown",
   "metadata": {},
   "source": [
    "We can easily read back this file into a DataFrame:"
   ]
  },
  {
   "cell_type": "code",
   "execution_count": 20,
   "metadata": {},
   "outputs": [
    {
     "name": "stdout",
     "output_type": "stream",
     "text": [
      "+-----------------+-----+\n",
      "|DEST_COUNTRY_NAME|count|\n",
      "+-----------------+-----+\n",
      "|           Canada| 8271|\n",
      "|           Mexico| 6200|\n",
      "|   United Kingdom| 1629|\n",
      "|          Germany| 1392|\n",
      "|            Japan| 1383|\n",
      "+-----------------+-----+\n",
      "only showing top 5 rows\n",
      "\n"
     ]
    }
   ],
   "source": [
    "spark.read.format(\"parquet\").load(data + \"tmp/outbound_US_2010.parquet\").show(5)"
   ]
  },
  {
   "cell_type": "markdown",
   "metadata": {},
   "source": [
    "## BigQuery\n",
    "\n",
    "The BigQuery connector can be used with Apache Spark to read and write data from/to BigQuery. This section provides an example code that uses the BigQuery connector with PySpark."
   ]
  },
  {
   "cell_type": "markdown",
   "metadata": {},
   "source": [
    "The following code will get the information to bring in the BigQuery table `bigquery-public-data.samples.shakespeare` into Spark.\n",
    "\n",
    "It will first save the BigQuery table as a JSON object in Google Cloud Storage and then we convert this object into a DataFrame:"
   ]
  },
  {
   "cell_type": "code",
   "execution_count": 24,
   "metadata": {},
   "outputs": [],
   "source": [
    "spark.conf.set('temporaryGcsBucket', bucket)"
   ]
  },
  {
   "cell_type": "code",
   "execution_count": 25,
   "metadata": {},
   "outputs": [
    {
     "name": "stderr",
     "output_type": "stream",
     "text": [
      "                                                                                \r"
     ]
    },
    {
     "name": "stdout",
     "output_type": "stream",
     "text": [
      "+----+----------+\n",
      "|word|word_count|\n",
      "+----+----------+\n",
      "| the|     25568|\n",
      "|   I|     21028|\n",
      "| and|     19649|\n",
      "|  to|     17361|\n",
      "|  of|     16438|\n",
      "|   a|     13409|\n",
      "| you|     12527|\n",
      "|  my|     11291|\n",
      "|  in|     10589|\n",
      "|  is|      8735|\n",
      "+----+----------+\n",
      "only showing top 10 rows\n",
      "\n",
      "root\n",
      " |-- word: string (nullable = false)\n",
      " |-- word_count: long (nullable = true)\n",
      "\n"
     ]
    },
    {
     "name": "stderr",
     "output_type": "stream",
     "text": [
      "                                                                                \r"
     ]
    }
   ],
   "source": [
    "# Load data from BigQuery.\n",
    "words = spark.read.format('bigquery') \\\n",
    "  .option('table', 'bigquery-public-data:samples.shakespeare') \\\n",
    "  .load()\n",
    "words.createOrReplaceTempView('words')\n",
    "\n",
    "# Perform word count.\n",
    "word_count = spark.sql(\n",
    "    'SELECT word, SUM(word_count) AS word_count FROM words GROUP BY word ORDER BY word_count DESC')\n",
    "word_count.show(10)\n",
    "word_count.printSchema()\n",
    "\n",
    "# Saving the data to BigQuery\n",
    "word_count.write.format('bigquery') \\\n",
    "  .mode(\"overwrite\") \\\n",
    "  .option('table', 'examples.wordcount_output') \\\n",
    "  .save()"
   ]
  },
  {
   "cell_type": "markdown",
   "metadata": {},
   "source": [
    "## Partitioning\n",
    "Partitioning is a tool that allows you to control what data is stored (and where) as you write it. When you write a file to a partitioned directory (or table), you basically encode a column as a folder. What this allows you to do is skip lots of data when you go to read it in later, allowing you to read in only the data relevant to your problem instead of having to scan the complete dataset. These are supported for all file-based data sources:"
   ]
  },
  {
   "cell_type": "code",
   "execution_count": 26,
   "metadata": {},
   "outputs": [
    {
     "name": "stderr",
     "output_type": "stream",
     "text": [
      "                                                                                \r"
     ]
    }
   ],
   "source": [
    "df.write.mode(\"overwrite\").partitionBy(\"DEST_COUNTRY_NAME\")\\\n",
    "  .save(\"/tmp/partitioned-files.parquet\")"
   ]
  },
  {
   "cell_type": "markdown",
   "metadata": {},
   "source": [
    "Upon writing, you get a list of folders in your Parquet “file”:"
   ]
  },
  {
   "cell_type": "code",
   "execution_count": 27,
   "metadata": {},
   "outputs": [
    {
     "name": "stdout",
     "output_type": "stream",
     "text": [
      "Found 126 items\n",
      "drwxr-xr-x   - root hadoop          0 2024-03-25 03:52 /tmp/partitioned-files.parquet/DEST_COUNTRY_NAME=Afghanistan\n",
      "drwxr-xr-x   - root hadoop          0 2024-03-25 03:52 /tmp/partitioned-files.parquet/DEST_COUNTRY_NAME=Angola\n",
      "drwxr-xr-x   - root hadoop          0 2024-03-25 03:52 /tmp/partitioned-files.parquet/DEST_COUNTRY_NAME=Anguilla\n",
      "drwxr-xr-x   - root hadoop          0 2024-03-25 03:52 /tmp/partitioned-files.parquet/DEST_COUNTRY_NAME=Antigua and Barbuda\n",
      "drwxr-xr-x   - root hadoop          0 2024-03-25 03:52 /tmp/partitioned-files.parquet/DEST_COUNTRY_NAME=Argentina\n",
      "drwxr-xr-x   - root hadoop          0 2024-03-25 03:52 /tmp/partitioned-files.parquet/DEST_COUNTRY_NAME=Aruba\n",
      "drwxr-xr-x   - root hadoop          0 2024-03-25 03:52 /tmp/partitioned-files.parquet/DEST_COUNTRY_NAME=Australia\n",
      "drwxr-xr-x   - root hadoop          0 2024-03-25 03:52 /tmp/partitioned-files.parquet/DEST_COUNTRY_NAME=Austria\n",
      "drwxr-xr-x   - root hadoop          0 2024-03-25 03:52 /tmp/partitioned-files.parquet/DEST_COUNTRY_NAME=Azerbaijan\n"
     ]
    }
   ],
   "source": [
    "!hadoop fs -ls /tmp/partitioned-files.parquet | head"
   ]
  },
  {
   "cell_type": "markdown",
   "metadata": {},
   "source": [
    "Each of these will contain Parquet files that contain that data where the previous predicate was true:"
   ]
  },
  {
   "cell_type": "code",
   "execution_count": 28,
   "metadata": {},
   "outputs": [
    {
     "name": "stdout",
     "output_type": "stream",
     "text": [
      "Found 1 items\n",
      "-rw-r--r--   1 root hadoop        804 2024-03-25 03:52 /tmp/partitioned-files.parquet/DEST_COUNTRY_NAME=Afghanistan/part-00000-31e765a5-46b0-465a-b9db-fa6aaf857dc5.c000.snappy.parquet\n"
     ]
    }
   ],
   "source": [
    "!hadoop fs -ls /tmp/partitioned-files.parquet/DEST_COUNTRY_NAME=Afghanistan"
   ]
  },
  {
   "cell_type": "markdown",
   "metadata": {},
   "source": [
    "This is probably the lowest-hanging optimization that you can use when you have a table that readers frequently filter by before manipulating. For instance, date is particularly common for a partition because, downstream, often we want to look at only the previous week’s data (instead of scanning the entire list of records). This can provide massive speedups for readers.\n",
    "\n",
    "## Managing File Size\n",
    "Managing file sizes is an important factor not so much for writing data but reading it later on. When you’re writing lots of small files, there’s a significant metadata overhead that you incur managing all of those files. Spark especially does not do well with small files, although many file systems (like HDFS) don’t handle lots of small files well, either. You might hear this referred to as the “small file problem.” The opposite is also true: you don’t want files that are too large either, because it becomes inefficient to have to read entire blocks of data when you need only a few rows.\n",
    "\n",
    "Spark 2.2 introduced a new method for controlling file sizes in a more automatic way. We saw previously that the number of output files is a derivative of the number of partitions we had at write time (and the partitioning columns we selected). Now, you can take advantage of another tool in order to limit output file sizes so that you can target an optimum file size. You can use the *maxRecordsPerFile* option and specify a number of your choosing. This allows you to better control file sizes by controlling the number of records that are written to each file. For example, if you set an option for a writer as `df.write.option(\"maxRecordsPerFile\", 5000)`, Spark will ensure that files will contain at most 5,000 records."
   ]
  },
  {
   "cell_type": "markdown",
   "metadata": {},
   "source": [
    "## SQL Databases (JDBC Connection)\n",
    "\n",
    "SQL datasources are one of the more powerful connectors because there are a variety of systems to which you can connect (as long as that system speaks SQL). For instance you can connect to a MySQL database, a PostgreSQL database, or an Oracle database. Despite the importance of these kinds of data sources the details of JDBC connections are beyond the scope of this course. If interested more details can be found in chapter 9 and Spark documentation."
   ]
  }
 ],
 "metadata": {
  "kernelspec": {
   "display_name": "PySpark",
   "language": "python",
   "name": "pyspark"
  },
  "language_info": {
   "codemirror_mode": {
    "name": "ipython",
    "version": 3
   },
   "file_extension": ".py",
   "mimetype": "text/x-python",
   "name": "python",
   "nbconvert_exporter": "python",
   "pygments_lexer": "ipython3",
   "version": "3.10.8"
  }
 },
 "nbformat": 4,
 "nbformat_minor": 4
}
